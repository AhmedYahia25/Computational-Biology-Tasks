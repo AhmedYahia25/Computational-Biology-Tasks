{
 "cells": [
  {
   "cell_type": "code",
   "execution_count": 1,
   "metadata": {},
   "outputs": [
    {
     "name": "stdout",
     "output_type": "stream",
     "text": [
      "441.2798662441\n",
      "387.2481710527\n"
     ]
    }
   ],
   "source": [
    "from pyopenms import *\n",
    "import pyopenms as SQ\n",
    "\n",
    "sum=0\n",
    "seq=SQ.AASequence.fromString(\"VAKA\")\n",
    "for aa in seq:\n",
    "    sum+=aa.getMonoWeight()\n",
    "print(sum)\n",
    "\n",
    "seq=SQ.AASequence.fromString(\"VAKA\")\n",
    "total=seq.getMonoWeight()\n",
    "print(total)"
   ]
  },
  {
   "cell_type": "code",
   "execution_count": null,
   "metadata": {},
   "outputs": [],
   "source": []
  }
 ],
 "metadata": {
  "kernelspec": {
   "display_name": "Python 3",
   "language": "python",
   "name": "python3"
  },
  "language_info": {
   "codemirror_mode": {
    "name": "ipython",
    "version": 3
   },
   "file_extension": ".py",
   "mimetype": "text/x-python",
   "name": "python",
   "nbconvert_exporter": "python",
   "pygments_lexer": "ipython3",
   "version": "3.8.5"
  }
 },
 "nbformat": 4,
 "nbformat_minor": 4
}
