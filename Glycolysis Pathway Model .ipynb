{
 "cells": [
  {
   "cell_type": "code",
   "execution_count": 1,
   "metadata": {},
   "outputs": [],
   "source": [
    "import cobra"
   ]
  },
  {
   "cell_type": "code",
   "execution_count": 2,
   "metadata": {},
   "outputs": [],
   "source": [
    "from cobra import*"
   ]
  },
  {
   "cell_type": "code",
   "execution_count": 3,
   "metadata": {},
   "outputs": [],
   "source": [
    "Glycolysis_Pathway=Model('Glycolysis_Pathway')"
   ]
  },
  {
   "cell_type": "markdown",
   "metadata": {},
   "source": [
    "## Glycolysis Pathway Reactions"
   ]
  },
  {
   "cell_type": "code",
   "execution_count": 4,
   "metadata": {},
   "outputs": [],
   "source": [
    "GLUin=Reaction('GLUin')\n",
    "GLUin.name='Glucose import'\n",
    "GLUin.lower_bound=1\n",
    "GLUin.upper_bound=1"
   ]
  },
  {
   "cell_type": "code",
   "execution_count": 5,
   "metadata": {},
   "outputs": [],
   "source": [
    "AMPin=Reaction('AMPin')\n",
    "AMPin.name='AMP import'\n",
    "AMPin.lower_bound=1\n",
    "AMPin.upper_bound=1"
   ]
  },
  {
   "cell_type": "code",
   "execution_count": 6,
   "metadata": {},
   "outputs": [],
   "source": [
    "HK=Reaction('HK')\n",
    "HK.name='Hexokinase'\n",
    "HK.lower_bound=0\n",
    "HK.upper_bound=1000"
   ]
  },
  {
   "cell_type": "code",
   "execution_count": 7,
   "metadata": {},
   "outputs": [],
   "source": [
    "PGI=Reaction('PGI')\n",
    "PGI.name='Glucose 6-phosphate isomerase'\n",
    "PGI.lower_bound=-1000\n",
    "PGI.upper_bound=1000"
   ]
  },
  {
   "cell_type": "code",
   "execution_count": 8,
   "metadata": {},
   "outputs": [],
   "source": [
    "PFK=Reaction('PFK')\n",
    "PFK.name='Phosphofructokinase'\n",
    "PFK.lower_bound=0\n",
    "PFK.upper_bound=1000"
   ]
  },
  {
   "cell_type": "code",
   "execution_count": 9,
   "metadata": {},
   "outputs": [],
   "source": [
    "TPI=Reaction('TPI')\n",
    "TPI.name='Triose-phosphate isomerase'\n",
    "TPI.lower_bound=-1000\n",
    "TPI.upper_bound=1000"
   ]
  },
  {
   "cell_type": "code",
   "execution_count": 10,
   "metadata": {},
   "outputs": [],
   "source": [
    "ALD=Reaction('ALD')\n",
    "ALD.name='Fructose 1,6-diphosphate aldolase'\n",
    "ALD.lower_bound=-1000\n",
    "ALD.upper_bound=1000"
   ]
  },
  {
   "cell_type": "code",
   "execution_count": 11,
   "metadata": {},
   "outputs": [],
   "source": [
    "GAPDH=Reaction('GAPDH')\n",
    "GAPDH.name='Glyceraldehyde 3-phosphate dehydrogenase'\n",
    "GAPDH.lower_bound=-1000\n",
    "GAPDH.upper_bound=1000"
   ]
  },
  {
   "cell_type": "code",
   "execution_count": 12,
   "metadata": {},
   "outputs": [],
   "source": [
    "PGK=Reaction('PGK')\n",
    "PGK.name='Phosphoglycerate kinasee'\n",
    "PGK.lower_bound=-1000\n",
    "PGK.upper_bound=1000"
   ]
  },
  {
   "cell_type": "code",
   "execution_count": 13,
   "metadata": {},
   "outputs": [],
   "source": [
    "PGLM=Reaction('PGLM')\n",
    "PGLM.name='Phosphoglycerate mutase'\n",
    "PGLM.lower_bound=-1000\n",
    "PGLM.upper_bound=1000"
   ]
  },
  {
   "cell_type": "code",
   "execution_count": 14,
   "metadata": {},
   "outputs": [],
   "source": [
    "ENO=Reaction('ENO')\n",
    "ENO.name='Enolase'\n",
    "ENO.lower_bound=-1000\n",
    "ENO.upper_bound=1000"
   ]
  },
  {
   "cell_type": "code",
   "execution_count": 15,
   "metadata": {},
   "outputs": [],
   "source": [
    "PK=Reaction('PK')\n",
    "PK.name='Pyruvate kinase'\n",
    "PK.lower_bound=0\n",
    "PK.upper_bound=1000"
   ]
  },
  {
   "cell_type": "code",
   "execution_count": 16,
   "metadata": {},
   "outputs": [],
   "source": [
    "LDH=Reaction('LDH')\n",
    "LDH.name='Lactate dehydrogenase'\n",
    "LDH.lower_bound=-1000\n",
    "LDH.upper_bound=1000"
   ]
  },
  {
   "cell_type": "code",
   "execution_count": 17,
   "metadata": {},
   "outputs": [],
   "source": [
    "AMP_export=Reaction('AMP')\n",
    "AMP_export.name='AMP export'\n",
    "AMP_export.lower_bound=0\n",
    "AMP_export.upper_bound=1000"
   ]
  },
  {
   "cell_type": "code",
   "execution_count": 18,
   "metadata": {},
   "outputs": [],
   "source": [
    "APK=Reaction('APK')\n",
    "APK.name='Adenylate kinase'\n",
    "APK.lower_bound=-1000\n",
    "APK.upper_bound=1000"
   ]
  },
  {
   "cell_type": "code",
   "execution_count": 19,
   "metadata": {},
   "outputs": [],
   "source": [
    "Pyruvate_exchange=Reaction('PYR')\n",
    "Pyruvate_exchange.name='Pyruvate exchange'\n",
    "Pyruvate_exchange.lower_bound=-1000\n",
    "Pyruvate_exchange.upper_bound=1000"
   ]
  },
  {
   "cell_type": "code",
   "execution_count": 20,
   "metadata": {},
   "outputs": [],
   "source": [
    "Lactate_exchange=Reaction('LAC')\n",
    "Lactate_exchange.name='Lactate exchange'\n",
    "Lactate_exchange.lower_bound=-1000\n",
    "Lactate_exchange.upper_bound=1000"
   ]
  },
  {
   "cell_type": "code",
   "execution_count": 21,
   "metadata": {},
   "outputs": [],
   "source": [
    "ATP_hydrolysis=Reaction('ATP')\n",
    "ATP_hydrolysis.name='ATP hydrolysis'\n",
    "ATP_hydrolysis.lower_bound=0\n",
    "ATP_hydrolysis.upper_bound=1000"
   ]
  },
  {
   "cell_type": "code",
   "execution_count": 22,
   "metadata": {},
   "outputs": [],
   "source": [
    "NADH_oxidation=Reaction('NADH')\n",
    "NADH_oxidation.name='NADH oxidation'\n",
    "NADH_oxidation.lower_bound=0\n",
    "NADH_oxidation.upper_bound=1000"
   ]
  },
  {
   "cell_type": "code",
   "execution_count": 23,
   "metadata": {},
   "outputs": [],
   "source": [
    "Water=Reaction('water')\n",
    "Water.name='Glucose import'\n",
    "Water.lower_bound=-1000\n",
    "Water.upper_bound=1000"
   ]
  },
  {
   "cell_type": "code",
   "execution_count": 24,
   "metadata": {},
   "outputs": [],
   "source": [
    "Hydrogen=Reaction('Hydrogen')\n",
    "Hydrogen.name='Water exchange'\n",
    "Hydrogen.lower_bound=-1000\n",
    "Hydrogen.upper_bound=1000"
   ]
  },
  {
   "cell_type": "markdown",
   "metadata": {},
   "source": [
    "## Glycolysis Pathway Metabolites"
   ]
  },
  {
   "cell_type": "code",
   "execution_count": 25,
   "metadata": {},
   "outputs": [],
   "source": [
    "Gluc=Metabolite(\n",
    "'Gluc',\n",
    "name= \"Glucose\",\n",
    "formula=\"C6H12O6\",\n",
    "compartment='c')\n"
   ]
  },
  {
   "cell_type": "code",
   "execution_count": 26,
   "metadata": {},
   "outputs": [],
   "source": [
    "G6P=Metabolite(\n",
    "'G6P',\n",
    "name= \"Glucose 6-phosphate\",\n",
    "formula=\"\",\n",
    "compartment='c')"
   ]
  },
  {
   "cell_type": "code",
   "execution_count": 27,
   "metadata": {},
   "outputs": [],
   "source": [
    "F6P=Metabolite(\n",
    "'F6P',\n",
    "name= \"Fructose 6-phosphate\",\n",
    "formula=\"C6H13O9P\",\n",
    "compartment='c')"
   ]
  },
  {
   "cell_type": "code",
   "execution_count": 28,
   "metadata": {},
   "outputs": [],
   "source": [
    "FDP=Metabolite(\n",
    "'FDP',\n",
    "name= \"Fructose 1,6-diphosphate\",\n",
    "formula=\"C6H14O12P2\",\n",
    "compartment='c')"
   ]
  },
  {
   "cell_type": "code",
   "execution_count": 29,
   "metadata": {},
   "outputs": [],
   "source": [
    "DHAP=Metabolite(\n",
    "'DHAP',\n",
    "name= \"Dihydroxyacetone phosphate\",\n",
    "formula=\"C3H7O6P\",\n",
    "compartment='c')"
   ]
  },
  {
   "cell_type": "code",
   "execution_count": 30,
   "metadata": {},
   "outputs": [],
   "source": [
    "GAP=Metabolite(\n",
    "'GAP',\n",
    "name= \"Glyceraldehyde 3-phosphate\",\n",
    "formula=\"C3H7O6P\",\n",
    "compartment='c')"
   ]
  },
  {
   "cell_type": "code",
   "execution_count": 31,
   "metadata": {},
   "outputs": [],
   "source": [
    "DPG13=Metabolite(\n",
    "'DPG13',\n",
    "name= \"1,3-Diphosphoglycerate\",\n",
    "formula=\"C3H8O10P2\",\n",
    "compartment='c')"
   ]
  },
  {
   "cell_type": "code",
   "execution_count": 32,
   "metadata": {},
   "outputs": [],
   "source": [
    "PG3=Metabolite(\n",
    "'PG3',\n",
    "name= \"3-Phosphoglycerate\",\n",
    "formula=\"C3H7O7P\",\n",
    "compartment='c')"
   ]
  },
  {
   "cell_type": "code",
   "execution_count": 33,
   "metadata": {},
   "outputs": [],
   "source": [
    "PG2=Metabolite(\n",
    "'PG2',\n",
    "name= \"2-Phosphoglycerate\",\n",
    "formula=\"C3H7O7P\",\n",
    "compartment='c')"
   ]
  },
  {
   "cell_type": "code",
   "execution_count": 34,
   "metadata": {},
   "outputs": [],
   "source": [
    "PEP=Metabolite(\n",
    "'PEP',\n",
    "name= \"Phosphoenolpyruvate\",\n",
    "formula=\"C3H5O6P\",\n",
    "compartment='c')"
   ]
  },
  {
   "cell_type": "code",
   "execution_count": 35,
   "metadata": {},
   "outputs": [],
   "source": [
    "PYR=Metabolite(\n",
    "'PYR',\n",
    "name= \"Pyruvate\",\n",
    "formula=\"C3H6O3\",\n",
    "compartment='c')"
   ]
  },
  {
   "cell_type": "code",
   "execution_count": 36,
   "metadata": {},
   "outputs": [],
   "source": [
    "LAC=Metabolite(\n",
    "'LAC',\n",
    "name= \"Lactate\",\n",
    "formula=\"C3H6O3\",\n",
    "compartment='c')"
   ]
  },
  {
   "cell_type": "code",
   "execution_count": 37,
   "metadata": {},
   "outputs": [],
   "source": [
    "NAD=Metabolite(\n",
    "'NAD',\n",
    "name= \"Nicotinamide adenine dinucleotide (oxidized)\",\n",
    "formula=\"C21H27N7O14P2\",\n",
    "compartment='c')"
   ]
  },
  {
   "cell_type": "code",
   "execution_count": 38,
   "metadata": {},
   "outputs": [],
   "source": [
    "NADH=Metabolite(\n",
    "'NADH',\n",
    "name= \"Nicotinamide adenine dinucleotide (reduced)\",\n",
    "formula=\"C21H27N7O14P2\",\n",
    "compartment='c')"
   ]
  },
  {
   "cell_type": "code",
   "execution_count": 39,
   "metadata": {},
   "outputs": [],
   "source": [
    "AMP=Metabolite(\n",
    "'AMP',\n",
    "name= \"Adenosine mono-phosphate\",\n",
    "formula=\"C10H14N5O7P\",\n",
    "compartment='c')"
   ]
  },
  {
   "cell_type": "code",
   "execution_count": 40,
   "metadata": {},
   "outputs": [],
   "source": [
    "ADP=Metabolite(\n",
    "'ADP',\n",
    "name= \"Adenosine Di-phosphate\",\n",
    "formula=\"C10H15N5O10P2\",\n",
    "compartment='c')"
   ]
  },
  {
   "cell_type": "code",
   "execution_count": 41,
   "metadata": {},
   "outputs": [],
   "source": [
    "ATP=Metabolite(\n",
    "'ATP',\n",
    "name= \"Adenosine tri-phosphate\",\n",
    "formula=\"C10H16N5O13P3\",\n",
    "compartment='c')"
   ]
  },
  {
   "cell_type": "code",
   "execution_count": 42,
   "metadata": {},
   "outputs": [],
   "source": [
    "Pi=Metabolite(\n",
    "'Pi',\n",
    "name= \"Inorganic phosphate\",\n",
    "formula=\"PO4\",\n",
    "compartment='c')"
   ]
  },
  {
   "cell_type": "code",
   "execution_count": 43,
   "metadata": {},
   "outputs": [],
   "source": [
    "H=Metabolite(\n",
    "'H',\n",
    "formula=\"H\",\n",
    "name= \"Proton\",\n",
    "compartment='c')"
   ]
  },
  {
   "cell_type": "code",
   "execution_count": 44,
   "metadata": {},
   "outputs": [],
   "source": [
    "H2O=Metabolite(\n",
    "'H2O',\n",
    "name= \"Water\",\n",
    "formula=\"H2O\",\n",
    "compartment='c')"
   ]
  },
  {
   "cell_type": "markdown",
   "metadata": {},
   "source": [
    "## Add Metabolites ot Reactions"
   ]
  },
  {
   "cell_type": "code",
   "execution_count": 45,
   "metadata": {},
   "outputs": [],
   "source": [
    "AMPin.add_metabolites({AMP:1})\n",
    "GLUin.add_metabolites({Gluc:1})\n",
    "HK.add_metabolites({Gluc:-1,ATP:-1,G6P:1,ADP:1,H:1})\n",
    "PGI.add_metabolites({G6P:-1,F6P:1})\n",
    "PFK.add_metabolites({F6P:-1,ATP:-1,FDP:1,ADP:1,H:1})\n",
    "TPI.add_metabolites({DHAP:-1,GAP:1})\n",
    "ALD.add_metabolites({FDP:-1,DHAP:1,GAP:1})\n",
    "GAPDH.add_metabolites({GAP:-1,NAD:-1,Pi:-1,DPG13:1,NADH:1,H:1})\n",
    "PGK.add_metabolites({DPG13:-1,ADP:-1,PG3:1,ATP:1})\n",
    "PGLM.add_metabolites({PG3:-1,PG2:1})\n",
    "ENO.add_metabolites({PG2:-1,PEP:1,H2O:1})\n",
    "PK.add_metabolites({PEP:-1,ADP:-1,H:-1,PYR:1,ATP:1})\n",
    "LDH.add_metabolites({PYR:-1,NADH:-1,H:-1,LAC:1,NAD:1})\n",
    "APK.add_metabolites({ADP:-2,AMP:1,ATP:1})\n",
    "AMP_export.add_metabolites({AMP:-1})\n",
    "Lactate_exchange.add_metabolites({LAC:-1})\n",
    "Pyruvate_exchange.add_metabolites({PYR:-1})\n",
    "ATP_hydrolysis.add_metabolites({ATP:-1,H2O:-1,ADP:1,Pi:1,H:1})\n",
    "NADH_oxidation.add_metabolites({NADH:-1,NAD:1,H:1})\n",
    "Water.add_metabolites({H2O:-1})\n",
    "Hydrogen.add_metabolites({H:-1})"
   ]
  },
  {
   "cell_type": "markdown",
   "metadata": {},
   "source": [
    "## Add Reactions to Model"
   ]
  },
  {
   "cell_type": "code",
   "execution_count": 46,
   "metadata": {},
   "outputs": [],
   "source": [
    "Glycolysis_Pathway.add_reactions([HK,PGI,PFK,TPI,ALD,GAPDH,PGK,PGLM,\n",
    "ENO,PK,LDH,AMP_export,APK,Pyruvate_exchange,Lactate_exchange,ATP_hydrolysis,NADH_oxidation,GLUin,AMPin,Hydrogen,Water])\n"
   ]
  },
  {
   "cell_type": "code",
   "execution_count": 47,
   "metadata": {},
   "outputs": [],
   "source": [
    "Glycolysis_Pathway.objective='PK'"
   ]
  },
  {
   "cell_type": "markdown",
   "metadata": {},
   "source": [
    "## Objective value of Glycolysis Pathway"
   ]
  },
  {
   "cell_type": "code",
   "execution_count": 48,
   "metadata": {},
   "outputs": [
    {
     "data": {
      "text/html": [
       "<strong><em>Optimal</em> solution with objective value 2.000</strong><br><div>\n",
       "<style scoped>\n",
       "    .dataframe tbody tr th:only-of-type {\n",
       "        vertical-align: middle;\n",
       "    }\n",
       "\n",
       "    .dataframe tbody tr th {\n",
       "        vertical-align: top;\n",
       "    }\n",
       "\n",
       "    .dataframe thead th {\n",
       "        text-align: right;\n",
       "    }\n",
       "</style>\n",
       "<table border=\"1\" class=\"dataframe\">\n",
       "  <thead>\n",
       "    <tr style=\"text-align: right;\">\n",
       "      <th></th>\n",
       "      <th>fluxes</th>\n",
       "      <th>reduced_costs</th>\n",
       "    </tr>\n",
       "  </thead>\n",
       "  <tbody>\n",
       "    <tr>\n",
       "      <th>HK</th>\n",
       "      <td>1.0</td>\n",
       "      <td>0.0</td>\n",
       "    </tr>\n",
       "    <tr>\n",
       "      <th>PGI</th>\n",
       "      <td>1.0</td>\n",
       "      <td>0.0</td>\n",
       "    </tr>\n",
       "    <tr>\n",
       "      <th>PFK</th>\n",
       "      <td>1.0</td>\n",
       "      <td>0.0</td>\n",
       "    </tr>\n",
       "    <tr>\n",
       "      <th>TPI</th>\n",
       "      <td>1.0</td>\n",
       "      <td>0.0</td>\n",
       "    </tr>\n",
       "    <tr>\n",
       "      <th>ALD</th>\n",
       "      <td>1.0</td>\n",
       "      <td>0.0</td>\n",
       "    </tr>\n",
       "    <tr>\n",
       "      <th>...</th>\n",
       "      <td>...</td>\n",
       "      <td>...</td>\n",
       "    </tr>\n",
       "    <tr>\n",
       "      <th>NADH</th>\n",
       "      <td>0.0</td>\n",
       "      <td>0.0</td>\n",
       "    </tr>\n",
       "    <tr>\n",
       "      <th>GLUin</th>\n",
       "      <td>1.0</td>\n",
       "      <td>4.0</td>\n",
       "    </tr>\n",
       "    <tr>\n",
       "      <th>AMPin</th>\n",
       "      <td>1.0</td>\n",
       "      <td>0.0</td>\n",
       "    </tr>\n",
       "    <tr>\n",
       "      <th>Hydrogen</th>\n",
       "      <td>2.0</td>\n",
       "      <td>0.0</td>\n",
       "    </tr>\n",
       "    <tr>\n",
       "      <th>water</th>\n",
       "      <td>0.0</td>\n",
       "      <td>0.0</td>\n",
       "    </tr>\n",
       "  </tbody>\n",
       "</table>\n",
       "<p>21 rows × 2 columns</p>\n",
       "</div>"
      ],
      "text/plain": [
       "<Solution 2.000 at 0x1e52b280190>"
      ]
     },
     "execution_count": 48,
     "metadata": {},
     "output_type": "execute_result"
    }
   ],
   "source": [
    "Glycolysis_Pathway.optimize()"
   ]
  },
  {
   "cell_type": "code",
   "execution_count": 49,
   "metadata": {},
   "outputs": [],
   "source": [
    "cobra.io.save_json_model(Glycolysis_Pathway,\"Glycolysis_Pathway.json\")"
   ]
  },
  {
   "cell_type": "code",
   "execution_count": 50,
   "metadata": {},
   "outputs": [],
   "source": [
    "import escher"
   ]
  },
  {
   "cell_type": "code",
   "execution_count": 51,
   "metadata": {},
   "outputs": [],
   "source": [
    "from escher import Builder"
   ]
  },
  {
   "cell_type": "code",
   "execution_count": 52,
   "metadata": {},
   "outputs": [],
   "source": [
    "build = Builder(model_json=\"Glycolysis_Pathway.json\")"
   ]
  },
  {
   "cell_type": "code",
   "execution_count": 53,
   "metadata": {},
   "outputs": [
    {
     "data": {
      "application/vnd.jupyter.widget-view+json": {
       "model_id": "ef4bbdfe75df4fd9ae40bb784b4d6dbc",
       "version_major": 2,
       "version_minor": 0
      },
      "text/plain": [
       "Builder()"
      ]
     },
     "metadata": {},
     "output_type": "display_data"
    }
   ],
   "source": [
    "build"
   ]
  }
 ],
 "metadata": {
  "kernelspec": {
   "display_name": "Python 3",
   "language": "python",
   "name": "python3"
  },
  "language_info": {
   "codemirror_mode": {
    "name": "ipython",
    "version": 3
   },
   "file_extension": ".py",
   "mimetype": "text/x-python",
   "name": "python",
   "nbconvert_exporter": "python",
   "pygments_lexer": "ipython3",
   "version": "3.8.5"
  }
 },
 "nbformat": 4,
 "nbformat_minor": 4
}
